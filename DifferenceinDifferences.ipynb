{
  "nbformat": 4,
  "nbformat_minor": 0,
  "metadata": {
    "colab": {
      "provenance": [],
      "authorship_tag": "ABX9TyPpV/jkg92G3RQZ6zYyrxTl",
      "include_colab_link": true
    },
    "kernelspec": {
      "name": "python3",
      "display_name": "Python 3"
    },
    "language_info": {
      "name": "python"
    }
  },
  "cells": [
    {
      "cell_type": "markdown",
      "metadata": {
        "id": "view-in-github",
        "colab_type": "text"
      },
      "source": [
        "<a href=\"https://colab.research.google.com/github/BaileyMeche/Econometrics/blob/main/DifferenceinDifferences.py\" target=\"_parent\"><img src=\"https://colab.research.google.com/assets/colab-badge.svg\" alt=\"Open In Colab\"/></a>"
      ]
    },
    {
      "cell_type": "markdown",
      "source": [
        "# Difference-in-Differences"
      ],
      "metadata": {
        "id": "NRxZSc-y0Gm3"
      }
    },
    {
      "cell_type": "code",
      "source": [
        "!pip install causaldata"
      ],
      "metadata": {
        "colab": {
          "base_uri": "https://localhost:8080/"
        },
        "id": "-NAJT_08yK3i",
        "outputId": "fbea19e0-e251-469b-a1c8-14561bc00ce2"
      },
      "execution_count": null,
      "outputs": [
        {
          "output_type": "stream",
          "name": "stdout",
          "text": [
            "Requirement already satisfied: causaldata in /usr/local/lib/python3.10/dist-packages (0.1.3)\n",
            "Requirement already satisfied: statsmodels in /usr/local/lib/python3.10/dist-packages (from causaldata) (0.14.0)\n",
            "Requirement already satisfied: pandas in /usr/local/lib/python3.10/dist-packages (from causaldata) (1.5.3)\n",
            "Requirement already satisfied: python-dateutil>=2.8.1 in /usr/local/lib/python3.10/dist-packages (from pandas->causaldata) (2.8.2)\n",
            "Requirement already satisfied: pytz>=2020.1 in /usr/local/lib/python3.10/dist-packages (from pandas->causaldata) (2023.3.post1)\n",
            "Requirement already satisfied: numpy>=1.21.0 in /usr/local/lib/python3.10/dist-packages (from pandas->causaldata) (1.23.5)\n",
            "Requirement already satisfied: scipy!=1.9.2,>=1.4 in /usr/local/lib/python3.10/dist-packages (from statsmodels->causaldata) (1.11.3)\n",
            "Requirement already satisfied: patsy>=0.5.2 in /usr/local/lib/python3.10/dist-packages (from statsmodels->causaldata) (0.5.3)\n",
            "Requirement already satisfied: packaging>=21.3 in /usr/local/lib/python3.10/dist-packages (from statsmodels->causaldata) (23.2)\n",
            "Requirement already satisfied: six in /usr/local/lib/python3.10/dist-packages (from patsy>=0.5.2->statsmodels->causaldata) (1.16.0)\n"
          ]
        }
      ]
    },
    {
      "cell_type": "code",
      "source": [
        "pip install linearmodels"
      ],
      "metadata": {
        "colab": {
          "base_uri": "https://localhost:8080/"
        },
        "id": "cbCRSImTz4LQ",
        "outputId": "02301cc5-ab7c-4228-8838-94b907c0e225"
      },
      "execution_count": null,
      "outputs": [
        {
          "output_type": "stream",
          "name": "stdout",
          "text": [
            "Requirement already satisfied: linearmodels in /usr/local/lib/python3.10/dist-packages (5.3)\n",
            "Requirement already satisfied: numpy>=1.19.0 in /usr/local/lib/python3.10/dist-packages (from linearmodels) (1.23.5)\n",
            "Requirement already satisfied: pandas>=1.1.0 in /usr/local/lib/python3.10/dist-packages (from linearmodels) (1.5.3)\n",
            "Requirement already satisfied: scipy>=1.5.0 in /usr/local/lib/python3.10/dist-packages (from linearmodels) (1.11.3)\n",
            "Requirement already satisfied: statsmodels>=0.12.0 in /usr/local/lib/python3.10/dist-packages (from linearmodels) (0.14.0)\n",
            "Requirement already satisfied: mypy-extensions>=0.4 in /usr/local/lib/python3.10/dist-packages (from linearmodels) (1.0.0)\n",
            "Requirement already satisfied: Cython>=0.29.34 in /usr/local/lib/python3.10/dist-packages (from linearmodels) (3.0.4)\n",
            "Requirement already satisfied: pyhdfe>=0.1 in /usr/local/lib/python3.10/dist-packages (from linearmodels) (0.2.0)\n",
            "Requirement already satisfied: formulaic>=0.6.5 in /usr/local/lib/python3.10/dist-packages (from linearmodels) (0.6.6)\n",
            "Requirement already satisfied: setuptools-scm[toml]<8.0.0,>=7.0.0 in /usr/local/lib/python3.10/dist-packages (from linearmodels) (7.1.0)\n",
            "Requirement already satisfied: astor>=0.8 in /usr/local/lib/python3.10/dist-packages (from formulaic>=0.6.5->linearmodels) (0.8.1)\n",
            "Requirement already satisfied: interface-meta>=1.2.0 in /usr/local/lib/python3.10/dist-packages (from formulaic>=0.6.5->linearmodels) (1.3.0)\n",
            "Requirement already satisfied: typing-extensions>=4.2.0 in /usr/local/lib/python3.10/dist-packages (from formulaic>=0.6.5->linearmodels) (4.5.0)\n",
            "Requirement already satisfied: wrapt>=1.0 in /usr/local/lib/python3.10/dist-packages (from formulaic>=0.6.5->linearmodels) (1.14.1)\n",
            "Requirement already satisfied: python-dateutil>=2.8.1 in /usr/local/lib/python3.10/dist-packages (from pandas>=1.1.0->linearmodels) (2.8.2)\n",
            "Requirement already satisfied: pytz>=2020.1 in /usr/local/lib/python3.10/dist-packages (from pandas>=1.1.0->linearmodels) (2023.3.post1)\n",
            "Requirement already satisfied: packaging>=20.0 in /usr/local/lib/python3.10/dist-packages (from setuptools-scm[toml]<8.0.0,>=7.0.0->linearmodels) (23.2)\n",
            "Requirement already satisfied: setuptools in /usr/local/lib/python3.10/dist-packages (from setuptools-scm[toml]<8.0.0,>=7.0.0->linearmodels) (67.7.2)\n",
            "Requirement already satisfied: tomli>=1.0.0 in /usr/local/lib/python3.10/dist-packages (from setuptools-scm[toml]<8.0.0,>=7.0.0->linearmodels) (2.0.1)\n",
            "Requirement already satisfied: patsy>=0.5.2 in /usr/local/lib/python3.10/dist-packages (from statsmodels>=0.12.0->linearmodels) (0.5.3)\n",
            "Requirement already satisfied: six in /usr/local/lib/python3.10/dist-packages (from patsy>=0.5.2->statsmodels>=0.12.0->linearmodels) (1.16.0)\n"
          ]
        }
      ]
    },
    {
      "cell_type": "markdown",
      "source": [
        "## Two-way fixed effects"
      ],
      "metadata": {
        "id": "DQZz9nXZtx5z"
      }
    },
    {
      "cell_type": "markdown",
      "source": [
        "Kessler and Roth organ donation study discussed earlier with clustered fixed effects applied at the state level"
      ],
      "metadata": {
        "id": "75yZ2RQSDPlk"
      }
    },
    {
      "cell_type": "code",
      "source": [
        "import matplotlib.pyplot as plt\n",
        "import seaborn as sns\n",
        "import linearmodels as lm\n",
        "from causaldata import organ_donations"
      ],
      "metadata": {
        "id": "YDyG_imyD9a7"
      },
      "execution_count": null,
      "outputs": []
    },
    {
      "cell_type": "markdown",
      "source": [
        "Create the variable columns we need"
      ],
      "metadata": {
        "id": "3c90Pt37HnCc"
      }
    },
    {
      "cell_type": "code",
      "source": [
        "od = organ_donations.load_pandas().data\n",
        "\n",
        "# Create Treatment Variable\n",
        "od['California'] = od['State'] == 'California'\n",
        "od['After'] = od['Quarter_Num'] > 3\n",
        "od['Treated'] = 1*(od['California'] & od['After'])\n",
        "# Set our individual and time (index) for our data\n",
        "od = od.set_index(['State','Quarter_Num'])"
      ],
      "metadata": {
        "id": "rrtZvjvJHdMx"
      },
      "execution_count": null,
      "outputs": []
    },
    {
      "cell_type": "code",
      "source": [
        "#Visualizing the data:\n",
        "od"
      ],
      "metadata": {
        "colab": {
          "base_uri": "https://localhost:8080/",
          "height": 455
        },
        "id": "DB4D0wEcHp4P",
        "outputId": "34276300-839a-49dd-d1f5-de5eea54a230"
      },
      "execution_count": null,
      "outputs": [
        {
          "output_type": "execute_result",
          "data": {
            "text/plain": [
              "                    Quarter    Rate  California  After  Treated\n",
              "State   Quarter_Num                                            \n",
              "Alaska  1            Q42010  0.7500       False  False        0\n",
              "        2            Q12011  0.7700       False  False        0\n",
              "        3            Q22011  0.7700       False  False        0\n",
              "        4            Q32011  0.7800       False   True        0\n",
              "        5            Q42011  0.7800       False   True        0\n",
              "...                     ...     ...         ...    ...      ...\n",
              "Wyoming 2            Q12011  0.5946       False  False        0\n",
              "        3            Q22011  0.5937       False  False        0\n",
              "        4            Q32011  0.5911       False   True        0\n",
              "        5            Q42011  0.5854       False   True        0\n",
              "        6            Q12012  0.5881       False   True        0\n",
              "\n",
              "[162 rows x 5 columns]"
            ],
            "text/html": [
              "\n",
              "  <div id=\"df-d733d74e-5880-439d-9799-fb3840d10f3c\" class=\"colab-df-container\">\n",
              "    <div>\n",
              "<style scoped>\n",
              "    .dataframe tbody tr th:only-of-type {\n",
              "        vertical-align: middle;\n",
              "    }\n",
              "\n",
              "    .dataframe tbody tr th {\n",
              "        vertical-align: top;\n",
              "    }\n",
              "\n",
              "    .dataframe thead th {\n",
              "        text-align: right;\n",
              "    }\n",
              "</style>\n",
              "<table border=\"1\" class=\"dataframe\">\n",
              "  <thead>\n",
              "    <tr style=\"text-align: right;\">\n",
              "      <th></th>\n",
              "      <th></th>\n",
              "      <th>Quarter</th>\n",
              "      <th>Rate</th>\n",
              "      <th>California</th>\n",
              "      <th>After</th>\n",
              "      <th>Treated</th>\n",
              "    </tr>\n",
              "    <tr>\n",
              "      <th>State</th>\n",
              "      <th>Quarter_Num</th>\n",
              "      <th></th>\n",
              "      <th></th>\n",
              "      <th></th>\n",
              "      <th></th>\n",
              "      <th></th>\n",
              "    </tr>\n",
              "  </thead>\n",
              "  <tbody>\n",
              "    <tr>\n",
              "      <th rowspan=\"5\" valign=\"top\">Alaska</th>\n",
              "      <th>1</th>\n",
              "      <td>Q42010</td>\n",
              "      <td>0.7500</td>\n",
              "      <td>False</td>\n",
              "      <td>False</td>\n",
              "      <td>0</td>\n",
              "    </tr>\n",
              "    <tr>\n",
              "      <th>2</th>\n",
              "      <td>Q12011</td>\n",
              "      <td>0.7700</td>\n",
              "      <td>False</td>\n",
              "      <td>False</td>\n",
              "      <td>0</td>\n",
              "    </tr>\n",
              "    <tr>\n",
              "      <th>3</th>\n",
              "      <td>Q22011</td>\n",
              "      <td>0.7700</td>\n",
              "      <td>False</td>\n",
              "      <td>False</td>\n",
              "      <td>0</td>\n",
              "    </tr>\n",
              "    <tr>\n",
              "      <th>4</th>\n",
              "      <td>Q32011</td>\n",
              "      <td>0.7800</td>\n",
              "      <td>False</td>\n",
              "      <td>True</td>\n",
              "      <td>0</td>\n",
              "    </tr>\n",
              "    <tr>\n",
              "      <th>5</th>\n",
              "      <td>Q42011</td>\n",
              "      <td>0.7800</td>\n",
              "      <td>False</td>\n",
              "      <td>True</td>\n",
              "      <td>0</td>\n",
              "    </tr>\n",
              "    <tr>\n",
              "      <th>...</th>\n",
              "      <th>...</th>\n",
              "      <td>...</td>\n",
              "      <td>...</td>\n",
              "      <td>...</td>\n",
              "      <td>...</td>\n",
              "      <td>...</td>\n",
              "    </tr>\n",
              "    <tr>\n",
              "      <th rowspan=\"5\" valign=\"top\">Wyoming</th>\n",
              "      <th>2</th>\n",
              "      <td>Q12011</td>\n",
              "      <td>0.5946</td>\n",
              "      <td>False</td>\n",
              "      <td>False</td>\n",
              "      <td>0</td>\n",
              "    </tr>\n",
              "    <tr>\n",
              "      <th>3</th>\n",
              "      <td>Q22011</td>\n",
              "      <td>0.5937</td>\n",
              "      <td>False</td>\n",
              "      <td>False</td>\n",
              "      <td>0</td>\n",
              "    </tr>\n",
              "    <tr>\n",
              "      <th>4</th>\n",
              "      <td>Q32011</td>\n",
              "      <td>0.5911</td>\n",
              "      <td>False</td>\n",
              "      <td>True</td>\n",
              "      <td>0</td>\n",
              "    </tr>\n",
              "    <tr>\n",
              "      <th>5</th>\n",
              "      <td>Q42011</td>\n",
              "      <td>0.5854</td>\n",
              "      <td>False</td>\n",
              "      <td>True</td>\n",
              "      <td>0</td>\n",
              "    </tr>\n",
              "    <tr>\n",
              "      <th>6</th>\n",
              "      <td>Q12012</td>\n",
              "      <td>0.5881</td>\n",
              "      <td>False</td>\n",
              "      <td>True</td>\n",
              "      <td>0</td>\n",
              "    </tr>\n",
              "  </tbody>\n",
              "</table>\n",
              "<p>162 rows × 5 columns</p>\n",
              "</div>\n",
              "    <div class=\"colab-df-buttons\">\n",
              "\n",
              "  <div class=\"colab-df-container\">\n",
              "    <button class=\"colab-df-convert\" onclick=\"convertToInteractive('df-d733d74e-5880-439d-9799-fb3840d10f3c')\"\n",
              "            title=\"Convert this dataframe to an interactive table.\"\n",
              "            style=\"display:none;\">\n",
              "\n",
              "  <svg xmlns=\"http://www.w3.org/2000/svg\" height=\"24px\" viewBox=\"0 -960 960 960\">\n",
              "    <path d=\"M120-120v-720h720v720H120Zm60-500h600v-160H180v160Zm220 220h160v-160H400v160Zm0 220h160v-160H400v160ZM180-400h160v-160H180v160Zm440 0h160v-160H620v160ZM180-180h160v-160H180v160Zm440 0h160v-160H620v160Z\"/>\n",
              "  </svg>\n",
              "    </button>\n",
              "\n",
              "  <style>\n",
              "    .colab-df-container {\n",
              "      display:flex;\n",
              "      gap: 12px;\n",
              "    }\n",
              "\n",
              "    .colab-df-convert {\n",
              "      background-color: #E8F0FE;\n",
              "      border: none;\n",
              "      border-radius: 50%;\n",
              "      cursor: pointer;\n",
              "      display: none;\n",
              "      fill: #1967D2;\n",
              "      height: 32px;\n",
              "      padding: 0 0 0 0;\n",
              "      width: 32px;\n",
              "    }\n",
              "\n",
              "    .colab-df-convert:hover {\n",
              "      background-color: #E2EBFA;\n",
              "      box-shadow: 0px 1px 2px rgba(60, 64, 67, 0.3), 0px 1px 3px 1px rgba(60, 64, 67, 0.15);\n",
              "      fill: #174EA6;\n",
              "    }\n",
              "\n",
              "    .colab-df-buttons div {\n",
              "      margin-bottom: 4px;\n",
              "    }\n",
              "\n",
              "    [theme=dark] .colab-df-convert {\n",
              "      background-color: #3B4455;\n",
              "      fill: #D2E3FC;\n",
              "    }\n",
              "\n",
              "    [theme=dark] .colab-df-convert:hover {\n",
              "      background-color: #434B5C;\n",
              "      box-shadow: 0px 1px 3px 1px rgba(0, 0, 0, 0.15);\n",
              "      filter: drop-shadow(0px 1px 2px rgba(0, 0, 0, 0.3));\n",
              "      fill: #FFFFFF;\n",
              "    }\n",
              "  </style>\n",
              "\n",
              "    <script>\n",
              "      const buttonEl =\n",
              "        document.querySelector('#df-d733d74e-5880-439d-9799-fb3840d10f3c button.colab-df-convert');\n",
              "      buttonEl.style.display =\n",
              "        google.colab.kernel.accessAllowed ? 'block' : 'none';\n",
              "\n",
              "      async function convertToInteractive(key) {\n",
              "        const element = document.querySelector('#df-d733d74e-5880-439d-9799-fb3840d10f3c');\n",
              "        const dataTable =\n",
              "          await google.colab.kernel.invokeFunction('convertToInteractive',\n",
              "                                                    [key], {});\n",
              "        if (!dataTable) return;\n",
              "\n",
              "        const docLinkHtml = 'Like what you see? Visit the ' +\n",
              "          '<a target=\"_blank\" href=https://colab.research.google.com/notebooks/data_table.ipynb>data table notebook</a>'\n",
              "          + ' to learn more about interactive tables.';\n",
              "        element.innerHTML = '';\n",
              "        dataTable['output_type'] = 'display_data';\n",
              "        await google.colab.output.renderOutput(dataTable, element);\n",
              "        const docLink = document.createElement('div');\n",
              "        docLink.innerHTML = docLinkHtml;\n",
              "        element.appendChild(docLink);\n",
              "      }\n",
              "    </script>\n",
              "  </div>\n",
              "\n",
              "\n",
              "<div id=\"df-ae59464d-60a5-48a6-9783-4dba531804ca\">\n",
              "  <button class=\"colab-df-quickchart\" onclick=\"quickchart('df-ae59464d-60a5-48a6-9783-4dba531804ca')\"\n",
              "            title=\"Suggest charts.\"\n",
              "            style=\"display:none;\">\n",
              "\n",
              "<svg xmlns=\"http://www.w3.org/2000/svg\" height=\"24px\"viewBox=\"0 0 24 24\"\n",
              "     width=\"24px\">\n",
              "    <g>\n",
              "        <path d=\"M19 3H5c-1.1 0-2 .9-2 2v14c0 1.1.9 2 2 2h14c1.1 0 2-.9 2-2V5c0-1.1-.9-2-2-2zM9 17H7v-7h2v7zm4 0h-2V7h2v10zm4 0h-2v-4h2v4z\"/>\n",
              "    </g>\n",
              "</svg>\n",
              "  </button>\n",
              "\n",
              "<style>\n",
              "  .colab-df-quickchart {\n",
              "      --bg-color: #E8F0FE;\n",
              "      --fill-color: #1967D2;\n",
              "      --hover-bg-color: #E2EBFA;\n",
              "      --hover-fill-color: #174EA6;\n",
              "      --disabled-fill-color: #AAA;\n",
              "      --disabled-bg-color: #DDD;\n",
              "  }\n",
              "\n",
              "  [theme=dark] .colab-df-quickchart {\n",
              "      --bg-color: #3B4455;\n",
              "      --fill-color: #D2E3FC;\n",
              "      --hover-bg-color: #434B5C;\n",
              "      --hover-fill-color: #FFFFFF;\n",
              "      --disabled-bg-color: #3B4455;\n",
              "      --disabled-fill-color: #666;\n",
              "  }\n",
              "\n",
              "  .colab-df-quickchart {\n",
              "    background-color: var(--bg-color);\n",
              "    border: none;\n",
              "    border-radius: 50%;\n",
              "    cursor: pointer;\n",
              "    display: none;\n",
              "    fill: var(--fill-color);\n",
              "    height: 32px;\n",
              "    padding: 0;\n",
              "    width: 32px;\n",
              "  }\n",
              "\n",
              "  .colab-df-quickchart:hover {\n",
              "    background-color: var(--hover-bg-color);\n",
              "    box-shadow: 0 1px 2px rgba(60, 64, 67, 0.3), 0 1px 3px 1px rgba(60, 64, 67, 0.15);\n",
              "    fill: var(--button-hover-fill-color);\n",
              "  }\n",
              "\n",
              "  .colab-df-quickchart-complete:disabled,\n",
              "  .colab-df-quickchart-complete:disabled:hover {\n",
              "    background-color: var(--disabled-bg-color);\n",
              "    fill: var(--disabled-fill-color);\n",
              "    box-shadow: none;\n",
              "  }\n",
              "\n",
              "  .colab-df-spinner {\n",
              "    border: 2px solid var(--fill-color);\n",
              "    border-color: transparent;\n",
              "    border-bottom-color: var(--fill-color);\n",
              "    animation:\n",
              "      spin 1s steps(1) infinite;\n",
              "  }\n",
              "\n",
              "  @keyframes spin {\n",
              "    0% {\n",
              "      border-color: transparent;\n",
              "      border-bottom-color: var(--fill-color);\n",
              "      border-left-color: var(--fill-color);\n",
              "    }\n",
              "    20% {\n",
              "      border-color: transparent;\n",
              "      border-left-color: var(--fill-color);\n",
              "      border-top-color: var(--fill-color);\n",
              "    }\n",
              "    30% {\n",
              "      border-color: transparent;\n",
              "      border-left-color: var(--fill-color);\n",
              "      border-top-color: var(--fill-color);\n",
              "      border-right-color: var(--fill-color);\n",
              "    }\n",
              "    40% {\n",
              "      border-color: transparent;\n",
              "      border-right-color: var(--fill-color);\n",
              "      border-top-color: var(--fill-color);\n",
              "    }\n",
              "    60% {\n",
              "      border-color: transparent;\n",
              "      border-right-color: var(--fill-color);\n",
              "    }\n",
              "    80% {\n",
              "      border-color: transparent;\n",
              "      border-right-color: var(--fill-color);\n",
              "      border-bottom-color: var(--fill-color);\n",
              "    }\n",
              "    90% {\n",
              "      border-color: transparent;\n",
              "      border-bottom-color: var(--fill-color);\n",
              "    }\n",
              "  }\n",
              "</style>\n",
              "\n",
              "  <script>\n",
              "    async function quickchart(key) {\n",
              "      const quickchartButtonEl =\n",
              "        document.querySelector('#' + key + ' button');\n",
              "      quickchartButtonEl.disabled = true;  // To prevent multiple clicks.\n",
              "      quickchartButtonEl.classList.add('colab-df-spinner');\n",
              "      try {\n",
              "        const charts = await google.colab.kernel.invokeFunction(\n",
              "            'suggestCharts', [key], {});\n",
              "      } catch (error) {\n",
              "        console.error('Error during call to suggestCharts:', error);\n",
              "      }\n",
              "      quickchartButtonEl.classList.remove('colab-df-spinner');\n",
              "      quickchartButtonEl.classList.add('colab-df-quickchart-complete');\n",
              "    }\n",
              "    (() => {\n",
              "      let quickchartButtonEl =\n",
              "        document.querySelector('#df-ae59464d-60a5-48a6-9783-4dba531804ca button');\n",
              "      quickchartButtonEl.style.display =\n",
              "        google.colab.kernel.accessAllowed ? 'block' : 'none';\n",
              "    })();\n",
              "  </script>\n",
              "</div>\n",
              "    </div>\n",
              "  </div>\n"
            ]
          },
          "metadata": {},
          "execution_count": 5
        }
      ]
    },
    {
      "cell_type": "code",
      "source": [
        "\n",
        "\n",
        "\n",
        "mod = lm.PanelOLS.from_formula('''Rate ~\n",
        "Treated + EntityEffects + TimeEffects''',od)\n",
        "\n",
        "# Specify clustering when we fit the model\n",
        "clfe = mod.fit(cov_type = 'clustered',\n",
        "cluster_entity = True)\n",
        "print(clfe)"
      ],
      "metadata": {
        "colab": {
          "base_uri": "https://localhost:8080/"
        },
        "id": "sMyI0nm20MDm",
        "outputId": "d7b85083-255b-46ce-eeac-3633623e4b09"
      },
      "execution_count": null,
      "outputs": [
        {
          "output_type": "stream",
          "name": "stdout",
          "text": [
            "                          PanelOLS Estimation Summary                           \n",
            "================================================================================\n",
            "Dep. Variable:                   Rate   R-squared:                        0.0092\n",
            "Estimator:                   PanelOLS   R-squared (Between):             -0.0010\n",
            "No. Observations:                 162   R-squared (Within):              -0.0021\n",
            "Date:                Thu, Nov 02 2023   R-squared (Overall):             -0.0010\n",
            "Time:                        03:36:08   Log-likelihood                    388.57\n",
            "Cov. Estimator:             Clustered                                           \n",
            "                                        F-statistic:                      1.2006\n",
            "Entities:                          27   P-value                           0.2752\n",
            "Avg Obs:                       6.0000   Distribution:                   F(1,129)\n",
            "Min Obs:                       6.0000                                           \n",
            "Max Obs:                       6.0000   F-statistic (robust):             11.525\n",
            "                                        P-value                           0.0009\n",
            "Time periods:                       6   Distribution:                   F(1,129)\n",
            "Avg Obs:                       27.000                                           \n",
            "Min Obs:                       27.000                                           \n",
            "Max Obs:                       27.000                                           \n",
            "                                                                                \n",
            "                             Parameter Estimates                              \n",
            "==============================================================================\n",
            "            Parameter  Std. Err.     T-stat    P-value    Lower CI    Upper CI\n",
            "------------------------------------------------------------------------------\n",
            "Treated       -0.0225     0.0066    -3.3949     0.0009     -0.0355     -0.0094\n",
            "==============================================================================\n",
            "\n",
            "F-test for Poolability: 191.71\n",
            "P-value: 0.0000\n",
            "Distribution: F(31,129)\n",
            "\n",
            "Included effects: Entity, Time\n"
          ]
        }
      ]
    },
    {
      "cell_type": "code",
      "source": [
        "clfe.params"
      ],
      "metadata": {
        "colab": {
          "base_uri": "https://localhost:8080/"
        },
        "id": "KSza7spiK3U_",
        "outputId": "dfb058c5-b250-4313-d6ab-c5a053e266f1"
      },
      "execution_count": null,
      "outputs": [
        {
          "output_type": "execute_result",
          "data": {
            "text/plain": [
              "Treated   -0.022459\n",
              "Name: parameter, dtype: float64"
            ]
          },
          "metadata": {},
          "execution_count": 5
        }
      ]
    },
    {
      "cell_type": "code",
      "source": [
        "  plt.figure(figsize=(10, 6))\n",
        "  sns.scatterplot(x='Quarter_Num', y='Rate', data=od, label='Data', color='blue', alpha=0.5)\n",
        "  plt.axvline(x=3, color='red', linestyle='--', label='Treatment Time')\n",
        "  plt.xlabel('Quarter')\n",
        "  plt.ylabel('Rate')\n",
        "  plt.legend()\n",
        "  plt.title('Regression Analysis with Treatment Time')\n",
        "  plt.grid()\n",
        "  plt.show()"
      ],
      "metadata": {
        "colab": {
          "base_uri": "https://localhost:8080/",
          "height": 497
        },
        "id": "aCefDPKJKKc3",
        "outputId": "6505e54f-671f-45d9-cf85-de49d62021b7"
      },
      "execution_count": null,
      "outputs": [
        {
          "output_type": "display_data",
          "data": {
            "text/plain": [
              "<Figure size 1000x600 with 1 Axes>"
            ],
            "image/png": "[encoded data removed]"
          },
          "metadata": {}
        }
      ]
    },
    {
      "cell_type": "markdown",
      "source": [
        "Table 18.2 shows the result of this two-way fixed effects regression, with the fixed effects themselves excluded from the table and only the coefficient on the `Treated`\n",
        " variable (“treated-group” and “after-treatment” interacted) shown. Notice at the bottom of the table a row each for the state and quarter fixed effects. The “X” here just indicates that the fixed effects are included. It’s fairly common to skip reporting the actual fixed effects - there are so many of them!\n",
        "\n",
        "The coefficient is **-0.022** with a standard error of .006. From this we can say that the introduction of active-choice phrasing in California saw a reduction in organ donation rates that was .022 (or 2.2 percentage points) larger in California than it was in the untreated states. The standard error is .006, so we have a t-statistic of **-0.22/0.006 = 3.67**, which is high enough to be considered statistically significant at the 99% level. We can reject the null that the DID estimate is 0."
      ],
      "metadata": {
        "id": "DRlq8KcdDUqN"
      }
    },
    {
      "cell_type": "markdown",
      "source": [
        "## Supporting the Parallel Trends Assumption\n"
      ],
      "metadata": {
        "id": "iWUTsf0DuIhl"
      }
    },
    {
      "cell_type": "code",
      "source": [
        "import linearmodels as lm\n",
        "from causaldata import organ_donations\n",
        "od = organ_donations.load_pandas().data\n",
        "\n",
        "# Keep only pre-treatment data\n",
        "od = od.loc[od['Quarter_Num'] <= 3]\n",
        "\n",
        "# Create fake treatment variables\n",
        "od['California'] = od['State'] == 'California'\n",
        "od['FakeAfter1'] = od['Quarter_Num'] > 1\n",
        "od['FakeAfter2'] = od['Quarter_Num'] > 2\n",
        "od['FakeTreat1'] = 1*(od['California'] & od['FakeAfter1'])\n",
        "od['FakeTreat2'] = 1*(od['California'] & od['FakeAfter2'])\n",
        "\n",
        "# Set our individual and time (index) for our data\n",
        "od = od.set_index(['State','Quarter_Num'])\n",
        "\n",
        "# Run the same model as before\n",
        "# but with our fake treatment variables\n",
        "mod1 = lm.PanelOLS.from_formula('''Rate ~\n",
        "FakeTreat1 + EntityEffects + TimeEffects''',od)\n",
        "mod2 = lm.PanelOLS.from_formula('''Rate ~\n",
        "FakeTreat2 + EntityEffects + TimeEffects''',od)\n",
        "\n",
        "clfe1 = mod1.fit(cov_type = 'clustered',\n",
        "cluster_entity = True)\n",
        "clfe2 = mod1.fit(cov_type = 'clustered',\n",
        "cluster_entity = True)"
      ],
      "metadata": {
        "colab": {
          "base_uri": "https://localhost:8080/"
        },
        "id": "7oEwNqG71Tu1",
        "outputId": "fbdec4be-7b5e-47a6-bde9-c6ce55c1ad2a"
      },
      "execution_count": null,
      "outputs": [
        {
          "output_type": "stream",
          "name": "stderr",
          "text": [
            "<ipython-input-7-d7ce3cab5625>:9: SettingWithCopyWarning: \n",
            "A value is trying to be set on a copy of a slice from a DataFrame.\n",
            "Try using .loc[row_indexer,col_indexer] = value instead\n",
            "\n",
            "See the caveats in the documentation: https://pandas.pydata.org/pandas-docs/stable/user_guide/indexing.html#returning-a-view-versus-a-copy\n",
            "  od['California'] = od['State'] == 'California'\n",
            "<ipython-input-7-d7ce3cab5625>:10: SettingWithCopyWarning: \n",
            "A value is trying to be set on a copy of a slice from a DataFrame.\n",
            "Try using .loc[row_indexer,col_indexer] = value instead\n",
            "\n",
            "See the caveats in the documentation: https://pandas.pydata.org/pandas-docs/stable/user_guide/indexing.html#returning-a-view-versus-a-copy\n",
            "  od['FakeAfter1'] = od['Quarter_Num'] > 1\n",
            "<ipython-input-7-d7ce3cab5625>:11: SettingWithCopyWarning: \n",
            "A value is trying to be set on a copy of a slice from a DataFrame.\n",
            "Try using .loc[row_indexer,col_indexer] = value instead\n",
            "\n",
            "See the caveats in the documentation: https://pandas.pydata.org/pandas-docs/stable/user_guide/indexing.html#returning-a-view-versus-a-copy\n",
            "  od['FakeAfter2'] = od['Quarter_Num'] > 2\n",
            "<ipython-input-7-d7ce3cab5625>:12: SettingWithCopyWarning: \n",
            "A value is trying to be set on a copy of a slice from a DataFrame.\n",
            "Try using .loc[row_indexer,col_indexer] = value instead\n",
            "\n",
            "See the caveats in the documentation: https://pandas.pydata.org/pandas-docs/stable/user_guide/indexing.html#returning-a-view-versus-a-copy\n",
            "  od['FakeTreat1'] = 1*(od['California'] & od['FakeAfter1'])\n",
            "<ipython-input-7-d7ce3cab5625>:13: SettingWithCopyWarning: \n",
            "A value is trying to be set on a copy of a slice from a DataFrame.\n",
            "Try using .loc[row_indexer,col_indexer] = value instead\n",
            "\n",
            "See the caveats in the documentation: https://pandas.pydata.org/pandas-docs/stable/user_guide/indexing.html#returning-a-view-versus-a-copy\n",
            "  od['FakeTreat2'] = 1*(od['California'] & od['FakeAfter2'])\n"
          ]
        }
      ]
    },
    {
      "cell_type": "code",
      "source": [
        "import linearmodels as lm\n",
        "from causaldata import organ_donations\n",
        "import matplotlib.pyplot as plt\n",
        "import seaborn as sns\n",
        "\n",
        "# Load the data\n",
        "od = organ_donations.load_pandas().data\n",
        "\n",
        "# Keep only pre-treatment data\n",
        "od = od.loc[od['Quarter_Num'] <= 3]\n",
        "\n",
        "# Create fake treatment variables\n",
        "od['California'] = od['State'] == 'California'\n",
        "od['FakeAfter1'] = od['Quarter_Num'] > 1\n",
        "od['FakeAfter2'] = od['Quarter_Num'] > 2\n",
        "od['FakeTreat1'] = 1 * (od['California'] & od['FakeAfter1'])\n",
        "od['FakeTreat2'] = 1 * (od['California'] & od['FakeAfter2'])\n",
        "\n",
        "# Set our individual and time (index) for our data\n",
        "od = od.set_index(['State', 'Quarter_Num'])\n",
        "\n",
        "# Create two separate dataframes for treated=0 and treated=1\n",
        "od_treated_0 = od[od['FakeTreat1'] == 0]\n",
        "od_treated_1 = od[od['FakeTreat1'] == 1]\n",
        "\n",
        "# Create two plots with different treatment dates\n",
        "fig, axes = plt.subplots(2, 1, figsize=(8, 10))\n",
        "\n",
        "# Plot for FakeTreat1\n",
        "sns.scatterplot(x='Quarter_Num', y='Rate', data=od_treated_0.reset_index(), label='Treated=0', ax=axes[0], alpha=0.5)\n",
        "sns.scatterplot(x='Quarter_Num', y='Rate', data=od_treated_1.reset_index(), label='Treated=1', ax=axes[0], alpha=0.5)\n",
        "axes[0].axvline(x=2, color='red', linestyle='--', label='Treatment Date 1')\n",
        "axes[0].set_xlabel('Quarter')\n",
        "axes[0].set_ylabel('Rate')\n",
        "axes[0].legend()\n",
        "axes[0].set_title('Data Visualization for FakeTreat1')\n",
        "\n",
        "# Plot for FakeTreat2\n",
        "sns.scatterplot(x='Quarter_Num', y='Rate', data=od_treated_0.reset_index(), label='Treated=0', ax=axes[1], alpha=0.5)\n",
        "sns.scatterplot(x='Quarter_Num', y='Rate', data=od_treated_1.reset_index(), label='Treated=1', ax=axes[1], alpha=0.5)\n",
        "axes[1].axvline(x=3, color='red', linestyle='--', label='Treatment Date 2')\n",
        "axes[1].set_xlabel('Quarter')\n",
        "axes[1].set_ylabel('Rate')\n",
        "axes[1].legend()\n",
        "axes[1].set_title('Data Visualization for FakeTreat2')\n",
        "\n",
        "plt.tight_layout()\n",
        "plt.show()\n"
      ],
      "metadata": {
        "colab": {
          "base_uri": "https://localhost:8080/",
          "height": 1000
        },
        "id": "WSLZwKSLR7WI",
        "outputId": "fd0abf95-6e70-4e9f-d293-1de42e5d7937"
      },
      "execution_count": null,
      "outputs": [
        {
          "output_type": "stream",
          "name": "stderr",
          "text": [
            "<ipython-input-8-4b8d6877de42>:13: SettingWithCopyWarning: \n",
            "A value is trying to be set on a copy of a slice from a DataFrame.\n",
            "Try using .loc[row_indexer,col_indexer] = value instead\n",
            "\n",
            "See the caveats in the documentation: https://pandas.pydata.org/pandas-docs/stable/user_guide/indexing.html#returning-a-view-versus-a-copy\n",
            "  od['California'] = od['State'] == 'California'\n",
            "<ipython-input-8-4b8d6877de42>:14: SettingWithCopyWarning: \n",
            "A value is trying to be set on a copy of a slice from a DataFrame.\n",
            "Try using .loc[row_indexer,col_indexer] = value instead\n",
            "\n",
            "See the caveats in the documentation: https://pandas.pydata.org/pandas-docs/stable/user_guide/indexing.html#returning-a-view-versus-a-copy\n",
            "  od['FakeAfter1'] = od['Quarter_Num'] > 1\n",
            "<ipython-input-8-4b8d6877de42>:15: SettingWithCopyWarning: \n",
            "A value is trying to be set on a copy of a slice from a DataFrame.\n",
            "Try using .loc[row_indexer,col_indexer] = value instead\n",
            "\n",
            "See the caveats in the documentation: https://pandas.pydata.org/pandas-docs/stable/user_guide/indexing.html#returning-a-view-versus-a-copy\n",
            "  od['FakeAfter2'] = od['Quarter_Num'] > 2\n"
          ]
        },
        {
          "output_type": "display_data",
          "data": {
            "text/plain": [
              "<Figure size 800x1000 with 2 Axes>"
            ],
            "image/png": "[encoded data removed]"
          },
          "metadata": {}
        }
      ]
    },
    {
      "cell_type": "markdown",
      "source": [
        "In Table 18.3, we see that if we drop all data after the actual treatment (which occurs between the third and fourth period in the data), and then pretend that the treatment occurred either between the first and second, or second and third periods, we find no DID effect. That’s as it should be! There wasn’t actually a policy change there, so there shouldn’t be a DID effect."
      ],
      "metadata": {
        "id": "fenMSjdPSfrX"
      }
    },
    {
      "cell_type": "code",
      "source": [
        "print(clfe1)\n",
        "print(clfe2)"
      ],
      "metadata": {
        "colab": {
          "base_uri": "https://localhost:8080/"
        },
        "id": "RR0TL-g_S3FE",
        "outputId": "08821d0e-7703-4ca7-cebe-4f1fe951e0ef"
      },
      "execution_count": null,
      "outputs": [
        {
          "output_type": "stream",
          "name": "stdout",
          "text": [
            "                          PanelOLS Estimation Summary                           \n",
            "================================================================================\n",
            "Dep. Variable:                   Rate   R-squared:                        0.0019\n",
            "Estimator:                   PanelOLS   R-squared (Between):              0.0004\n",
            "No. Observations:                  81   R-squared (Within):               0.0025\n",
            "Date:                Thu, Nov 02 2023   R-squared (Overall):              0.0004\n",
            "Time:                        03:36:09   Log-likelihood                    240.84\n",
            "Cov. Estimator:             Clustered                                           \n",
            "                                        F-statistic:                      0.0979\n",
            "Entities:                          27   P-value                           0.7556\n",
            "Avg Obs:                       3.0000   Distribution:                    F(1,51)\n",
            "Min Obs:                       3.0000                                           \n",
            "Max Obs:                       3.0000   F-statistic (robust):             0.9733\n",
            "                                        P-value                           0.3285\n",
            "Time periods:                       3   Distribution:                    F(1,51)\n",
            "Avg Obs:                       27.000                                           \n",
            "Min Obs:                       27.000                                           \n",
            "Max Obs:                       27.000                                           \n",
            "                                                                                \n",
            "                             Parameter Estimates                              \n",
            "==============================================================================\n",
            "            Parameter  Std. Err.     T-stat    P-value    Lower CI    Upper CI\n",
            "------------------------------------------------------------------------------\n",
            "FakeTreat1     0.0061     0.0062     0.9866     0.3285     -0.0063      0.0185\n",
            "==============================================================================\n",
            "\n",
            "F-test for Poolability: 282.21\n",
            "P-value: 0.0000\n",
            "Distribution: F(28,51)\n",
            "\n",
            "Included effects: Entity, Time\n",
            "                          PanelOLS Estimation Summary                           \n",
            "================================================================================\n",
            "Dep. Variable:                   Rate   R-squared:                        0.0019\n",
            "Estimator:                   PanelOLS   R-squared (Between):              0.0004\n",
            "No. Observations:                  81   R-squared (Within):               0.0025\n",
            "Date:                Thu, Nov 02 2023   R-squared (Overall):              0.0004\n",
            "Time:                        03:36:09   Log-likelihood                    240.84\n",
            "Cov. Estimator:             Clustered                                           \n",
            "                                        F-statistic:                      0.0979\n",
            "Entities:                          27   P-value                           0.7556\n",
            "Avg Obs:                       3.0000   Distribution:                    F(1,51)\n",
            "Min Obs:                       3.0000                                           \n",
            "Max Obs:                       3.0000   F-statistic (robust):             0.9733\n",
            "                                        P-value                           0.3285\n",
            "Time periods:                       3   Distribution:                    F(1,51)\n",
            "Avg Obs:                       27.000                                           \n",
            "Min Obs:                       27.000                                           \n",
            "Max Obs:                       27.000                                           \n",
            "                                                                                \n",
            "                             Parameter Estimates                              \n",
            "==============================================================================\n",
            "            Parameter  Std. Err.     T-stat    P-value    Lower CI    Upper CI\n",
            "------------------------------------------------------------------------------\n",
            "FakeTreat1     0.0061     0.0062     0.9866     0.3285     -0.0063      0.0185\n",
            "==============================================================================\n",
            "\n",
            "F-test for Poolability: 282.21\n",
            "P-value: 0.0000\n",
            "Distribution: F(28,51)\n",
            "\n",
            "Included effects: Entity, Time\n"
          ]
        }
      ]
    },
    {
      "cell_type": "markdown",
      "source": [
        "## Long-Term Effects\n"
      ],
      "metadata": {
        "id": "VjwphjM6uPDz"
      }
    },
    {
      "cell_type": "code",
      "source": [
        "import pandas as pd\n",
        "import matplotlib as plt\n",
        "import linearmodels as lm\n",
        "from causaldata import organ_donations\n",
        "od = organ_donations.load_pandas().data\n",
        "\n",
        "# Create Treatment Variable\n",
        "od['California'] = od['State'] == 'California'\n",
        "\n",
        "# Create our interactions by hand,\n",
        "# skipping quarter 3, the last one before treatment\n",
        "for i in [1, 2, 4, 5, 6]:\n",
        "    name = 'INX'+str(i)\n",
        "    od[name] = 1*od['California']\n",
        "    od.loc[od['Quarter_Num'] != i, name] = 0\n",
        "\n",
        "# Set our individual and time (index) for our data\n",
        "od = od.set_index(['State','Quarter_Num'])\n",
        "\n",
        "mod = lm.PanelOLS.from_formula('''Rate ~\n",
        "INX1 + INX2 + INX4 + INX5 + INX6 +\n",
        "EntityEffects + TimeEffects''',od)\n",
        "\n",
        "# Specify clustering when we fit the model\n",
        "clfe = mod.fit(cov_type = 'clustered',\n",
        "cluster_entity = True)\n",
        "\n",
        "# Get coefficients and CIs\n",
        "res = pd.concat([clfe.params, clfe.std_errors], axis = 1)\n",
        "# Scale standard error to CI\n",
        "res['ci'] = res['std_error']*1.96\n",
        "\n",
        "# Add our quarter values\n",
        "res['Quarter_Num'] = [1, 2, 4, 5, 6]\n",
        "# And add our reference period back in\n",
        "reference = pd.DataFrame([[0,0,0,3]],\n",
        "columns = ['parameter',\n",
        "            'lower',\n",
        "            'upper',\n",
        "            'Quarter_Num'])\n",
        "res = pd.concat([res, reference])\n",
        "\n",
        "# For plotting, sort and add labels\n",
        "res = res.sort_values('Quarter_Num')\n",
        "res['Quarter'] = ['Q42010','Q12011',\n",
        "                    'Q22011','Q32011',\n",
        "                    'Q42011','Q12012']\n",
        "\n",
        "# Plot the estimates as connected lines with error bars\n",
        "\n",
        "plt.pyplot.errorbar(x = 'Quarter', y = 'parameter',\n",
        "                    yerr = 'ci', data = res)\n",
        "# Add a horizontal line at 0\n",
        "plt.pyplot.axhline(0, linestyle = 'dashed')"
      ],
      "metadata": {
        "colab": {
          "base_uri": "https://localhost:8080/",
          "height": 447
        },
        "id": "j9a622DE1hpB",
        "outputId": "a7e0c18c-1397-4efd-ec5b-8e1b8319d58e"
      },
      "execution_count": null,
      "outputs": [
        {
          "output_type": "execute_result",
          "data": {
            "text/plain": [
              "<matplotlib.lines.Line2D at 0x7ee2749c7790>"
            ]
          },
          "metadata": {},
          "execution_count": 10
        },
        {
          "output_type": "display_data",
          "data": {
            "text/plain": [
              "<Figure size 640x480 with 1 Axes>"
            ],
            "image/png": "[encoded data removed]"
          },
          "metadata": {}
        }
      ]
    },
    {
      "cell_type": "markdown",
      "source": [
        "From Figure 18.6 we can see effects near zero in the three pre-treatment periods - always good, although the confidence interval for the first quarter of 2011 is above zero. That’s not ideal, but as I mentioned, a single dynamic effect behaving badly isn’t a reason to throw out the whole model or anything, especially when the deviation is fairly small in its actual value. We also see three similarly negative effects for the three periods after treatment goes into effect. The impact appears to be immediate and consistent, at least within the time window we’re looking at."
      ],
      "metadata": {
        "id": "PkRhSyJmd60W"
      }
    }
  ]
}
